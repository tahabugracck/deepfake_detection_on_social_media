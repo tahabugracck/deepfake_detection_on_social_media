{
 "cells": [
  {
   "cell_type": "code",
   "execution_count": null,
   "id": "e5cd7831-a882-42aa-83ee-09b9fb59a912",
   "metadata": {},
   "outputs": [],
   "source": [
    "!mkdir -p ~/.kaggle # klasör oluşturduk\n",
    "!cp kaggle.json ~/.kaggle/ # kaggle.json dosyasını bu dizine kopyalar\n",
    "!chmod 600 ~/.kaggle/kaggle.json # dosyaya güvenlik izinlerini verdik"
   ]
  },
  {
   "cell_type": "code",
   "execution_count": null,
   "id": "d808be85-8499-4d55-996e-701708727b45",
   "metadata": {},
   "outputs": [],
   "source": [
    "# colab'da veri seti indirmek için\n",
    "!kaggle datasets download -d manjilkarki/deepfake-and-real-images\n"
   ]
  },
  {
   "cell_type": "code",
   "execution_count": null,
   "id": "13c28c4c-93ba-45f7-a291-8758667946a5",
   "metadata": {},
   "outputs": [],
   "source": [
    "#Zip Dosyasının Açılması\n",
    "!unzip deepfake-and-real-images.zip -d data"
   ]
  },
  {
   "cell_type": "code",
   "execution_count": null,
   "id": "6ae0b41a-f0cf-4557-a4a9-8b4afecac3f5",
   "metadata": {},
   "outputs": [],
   "source": [
    "import os\n",
    "import cv2\n",
    "import numpy as np\n",
    "from sklearn.model_selection import train_test_split\n",
    "import tensorflow as tf\n",
    "from tensorflow.keras import layers, models\n",
    "\n",
    "# Gerçek ve sahte görsel dosya yolları\n",
    "real_image_path = 'data/Dataset/Train/Real'\n",
    "fake_image_path = 'data/Dataset/Train/Fake'\n",
    "\n",
    "def load_images_from_folder(folder, label):\n",
    "    images = []\n",
    "    labels = []\n",
    "    for filename in os.listdir(folder):\n",
    "        img_path = os.path.join(folder, filename)\n",
    "        img = cv2.imread(img_path)\n",
    "        if img is not None:\n",
    "            img = cv2.resize(img, (128, 128))  # Görüntü boyutunu 128x128 olarak ayarlıyoruz\n",
    "            if len(img.shape) == 2:  # Eğer görüntü gri tonlamalıysa\n",
    "                img = cv2.cvtColor(img, cv2.COLOR_GRAY2BGR)\n",
    "            img = img / 255.0  # Görüntüleri normalize et\n",
    "            images.append(img)\n",
    "            labels.append(label)\n",
    "    return np.array(images), np.array(labels)\n",
    "\n",
    "# Gerçek ve sahte görselleri yükle\n",
    "real_images, real_labels = load_images_from_folder(real_image_path, 1)  # Gerçekler için etiket 1\n",
    "fake_images, fake_labels = load_images_from_folder(fake_image_path, 0)  # Sahte görseller için etiket 0\n",
    "\n",
    "# Görselleri ve etiketleri birleştir\n",
    "X = np.concatenate((real_images, fake_images), axis=0)\n",
    "y = np.concatenate((real_labels, fake_labels), axis=0)\n",
    "\n",
    "# Veriyi %80 eğitim, %20 test olarak ayıralım\n",
    "X_train, X_test, y_train, y_test = train_test_split(X, y, test_size=0.2, random_state=42)\n",
    "\n",
    "# Modeli tanımlama\n",
    "model = models.Sequential([\n",
    "    layers.Conv2D(32, (3, 3), activation='relu', input_shape=(128, 128, 3)),\n",
    "    layers.MaxPooling2D((2, 2)),\n",
    "    layers.Conv2D(64, (3, 3), activation='relu'),\n",
    "    layers.MaxPooling2D((2, 2)),\n",
    "    layers.Conv2D(128, (3, 3), activation='relu'),\n",
    "    layers.MaxPooling2D((2, 2)),\n",
    "    layers.Conv2D(128, (3, 3), activation='relu'),\n",
    "    layers.Flatten(),\n",
    "    layers.Dense(128, activation='relu'),\n",
    "    layers.Dense(1, activation='sigmoid')\n",
    "])\n",
    "\n",
    "\n",
    "# Modeli derleme\n",
    "model.compile(optimizer='adam', loss='binary_crossentropy', metrics=['accuracy'])\n",
    "\n",
    "# Modeli eğitme\n",
    "history = model.fit(X_train, y_train, epochs=10, validation_split=0.2)\n",
    "\n",
    "# Test veri seti üzerinde modelin doğruluğunu ölçme\n",
    "test_loss, test_acc = model.evaluate(X_test, y_test, verbose=2)\n",
    "\n",
    "print(f\"Test doğruluğu: {test_acc:.2f}\")"
   ]
  },
  {
   "cell_type": "code",
   "execution_count": null,
   "id": "782bd141-ee1e-4732-9acf-b546e3a3ae8a",
   "metadata": {},
   "outputs": [],
   "source": [
    "# modeli kaydetme\n",
    "\n",
    "model.save('10_model.h5')"
   ]
  },
  {
   "cell_type": "code",
   "execution_count": null,
   "id": "5efbd851-e508-4546-8100-1bc88cd8b7b8",
   "metadata": {},
   "outputs": [],
   "source": [
    "# Modeli yükleme\n",
    "loaded_model = tf.keras.models.load_model('model.h5')\n",
    "\n",
    "real_image_path = 'data/Dataset/Validation/Real'\n",
    "fake_image_path = 'data/Dataset/Validation/Fake'\n",
    "\n",
    "real_images, real_labels = load_images_from_folder(real_image_path, 1)  # Gerçekler için etiket 1\n",
    "fake_images, fake_labels = load_images_from_folder(fake_image_path, 0)  # Sahte görseller için etiket 0\n",
    "\n",
    "# Görselleri ve etiketleri birleştir\n",
    "X = np.concatenate((real_images, fake_images), axis=0)\n",
    "y = np.concatenate((real_labels, fake_labels), axis=0)\n",
    "\n",
    "# Test seti üzerinde değerlendirme\n",
    "test_loss, test_acc = loaded_model.evaluate(X, y, verbose=2)\n",
    "print(f\"Yüklenen modelin test doğruluğu: {test_acc:.2f}\")\n",
    "\n",
    "# Tahmin yapma\n",
    "predictions = loaded_model.predict(X)\n",
    "predicted_classes = (predictions > 0.5).astype(int)"
   ]
  },
  {
   "cell_type": "markdown",
   "id": "3a6e9258-7b3e-4509-acf6-964b9e9c0261",
   "metadata": {},
   "source": [
    "model colab linki: https://colab.research.google.com/drive/1pAZErQjCQvoVGIVMeuLscmaJRWaSSa6E#scrollTo=d7dcQcjhM3ef"
   ]
  }
 ],
 "metadata": {
  "kernelspec": {
   "display_name": "Python 3 (ipykernel)",
   "language": "python",
   "name": "python3"
  },
  "language_info": {
   "codemirror_mode": {
    "name": "ipython",
    "version": 3
   },
   "file_extension": ".py",
   "mimetype": "text/x-python",
   "name": "python",
   "nbconvert_exporter": "python",
   "pygments_lexer": "ipython3",
   "version": "3.12.7"
  }
 },
 "nbformat": 4,
 "nbformat_minor": 5
}
